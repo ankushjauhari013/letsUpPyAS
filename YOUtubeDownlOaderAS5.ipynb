{
  "nbformat": 4,
  "nbformat_minor": 0,
  "metadata": {
    "colab": {
      "name": "YOUtubeDownlOaderAS5.ipynb",
      "provenance": [],
      "collapsed_sections": [],
      "authorship_tag": "ABX9TyPAUXTSZizArhDg6F8mzN7q",
      "include_colab_link": true
    },
    "kernelspec": {
      "name": "python3",
      "display_name": "Python 3"
    },
    "language_info": {
      "name": "python"
    }
  },
  "cells": [
    {
      "cell_type": "markdown",
      "metadata": {
        "id": "view-in-github",
        "colab_type": "text"
      },
      "source": [
        "<a href=\"https://colab.research.google.com/github/ankushjauhari013/letsUpPyAS/blob/main/YOUtubeDownlOaderAS5.ipynb\" target=\"_parent\"><img src=\"https://colab.research.google.com/assets/colab-badge.svg\" alt=\"Open In Colab\"/></a>"
      ]
    },
    {
      "cell_type": "code",
      "metadata": {
        "id": "w-mHJ1wqIL9a"
      },
      "source": [
        "from pytube import YouTube\n",
        "\n",
        "url = 'https://www.youtube.com/watch?v=-MlkASchodc'\n",
        "my_video = YouTube(url)\n",
        "\n",
        "print(\"*********************Video Title************************\")\n",
        "#get Video Title\n",
        "print(my_video.title)\n",
        "\n",
        "print(\"********************Tumbnail Image***********************\")\n",
        "#get Thumbnail Image\n",
        "print(my_video.thumbnail_url)\n",
        "\n",
        "print(\"********************Download video*************************\")\n",
        "#get all the stream resolution for the \n",
        "for stream in my_video.streams:\n",
        "    print(stream)\n",
        "\n",
        "#set stream resolution\n",
        "my_video = my_video.streams.get_highest_resolution()\n",
        "\n",
        "#Download video\n",
        "my_video.download()"
      ],
      "execution_count": 4,
      "outputs": []
    },
    {
      "cell_type": "code",
      "metadata": {
        "id": "gh-wBTf1I95_"
      },
      "source": [
        ""
      ],
      "execution_count": null,
      "outputs": []
    }
  ]
}