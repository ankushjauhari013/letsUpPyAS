{
  "nbformat": 4,
  "nbformat_minor": 0,
  "metadata": {
    "colab": {
      "name": "AnkushWeatherAsign6.ipynb",
      "provenance": [],
      "collapsed_sections": [],
      "authorship_tag": "ABX9TyOGoifaYx+2yr9cOK4icTwm",
      "include_colab_link": true
    },
    "kernelspec": {
      "name": "python3",
      "display_name": "Python 3"
    },
    "language_info": {
      "name": "python"
    }
  },
  "cells": [
    {
      "cell_type": "markdown",
      "metadata": {
        "id": "view-in-github",
        "colab_type": "text"
      },
      "source": [
        "<a href=\"https://colab.research.google.com/github/ankushjauhari013/letsUpPyAS/blob/main/AnkushWeatherAsign6.ipynb\" target=\"_parent\"><img src=\"https://colab.research.google.com/assets/colab-badge.svg\" alt=\"Open In Colab\"/></a>"
      ]
    },
    {
      "cell_type": "code",
      "metadata": {
        "colab": {
          "base_uri": "https://localhost:8080/"
        },
        "id": "yIElE50-FOKe",
        "outputId": "db93eac1-ee1d-4781-8cb6-31d4b7539738"
      },
      "source": [
        "import requests\n",
        "from pprint import pprint\n",
        "varcity = input(' Enter your city :==> ')\n",
        "#To customize the input as from the default link from OWM API , added format option inside it.\n",
        "url = 'https://api.openweathermap.org/data/2.5/weather?q={}&appid=7de67d130997a582012150ddd4dfdbc6' .format(varcity)\n",
        "#Getting data from the OWM server\n",
        "res = requests.get(url)\n",
        "#Optimizing the data from json to output terminal\n",
        "data = res.json()\n",
        "print(res)\n",
        "#using pprint for a organised output from json file from the Web.\n",
        "pprint(data)"
      ],
      "execution_count": 5,
      "outputs": [
        {
          "output_type": "stream",
          "text": [
            "Enter your city :==>GHAZIABAD\n",
            "<Response [200]>\n",
            "{'base': 'stations',\n",
            " 'clouds': {'all': 4},\n",
            " 'cod': 200,\n",
            " 'coord': {'lat': 28.6667, 'lon': 77.4333},\n",
            " 'dt': 1625646727,\n",
            " 'id': 1271308,\n",
            " 'main': {'feels_like': 312.47,\n",
            "          'grnd_level': 973,\n",
            "          'humidity': 15,\n",
            "          'pressure': 995,\n",
            "          'sea_level': 995,\n",
            "          'temp': 314.23,\n",
            "          'temp_max': 314.23,\n",
            "          'temp_min': 314.23},\n",
            " 'name': 'Ghaziabad',\n",
            " 'sys': {'country': 'IN',\n",
            "         'id': 9165,\n",
            "         'sunrise': 1625615890,\n",
            "         'sunset': 1625665906,\n",
            "         'type': 1},\n",
            " 'timezone': 19800,\n",
            " 'visibility': 10000,\n",
            " 'weather': [{'description': 'clear sky',\n",
            "              'icon': '01d',\n",
            "              'id': 800,\n",
            "              'main': 'Clear'}],\n",
            " 'wind': {'deg': 294, 'gust': 6.59, 'speed': 4.2}}\n"
          ],
          "name": "stdout"
        }
      ]
    },
    {
      "cell_type": "code",
      "metadata": {
        "id": "4R1yib6TFpFv"
      },
      "source": [
        "inor"
      ],
      "execution_count": null,
      "outputs": []
    },
    {
      "cell_type": "code",
      "metadata": {
        "id": "S3VpO1kJFR3b"
      },
      "source": [
        ""
      ],
      "execution_count": null,
      "outputs": []
    }
  ]
}