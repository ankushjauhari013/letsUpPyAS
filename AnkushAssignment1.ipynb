{
  "nbformat": 4,
  "nbformat_minor": 0,
  "metadata": {
    "colab": {
      "name": "AnkushAssignment1.ipynb",
      "provenance": [],
      "collapsed_sections": [],
      "authorship_tag": "ABX9TyM1JNlk+V53JrcTTIexWDDE",
      "include_colab_link": true
    },
    "kernelspec": {
      "name": "python3",
      "display_name": "Python 3"
    },
    "language_info": {
      "name": "python"
    }
  },
  "cells": [
    {
      "cell_type": "markdown",
      "metadata": {
        "id": "view-in-github",
        "colab_type": "text"
      },
      "source": [
        "<a href=\"https://colab.research.google.com/github/ankushjauhari013/letsUpPyAS/blob/main/AnkushAssignment1.ipynb\" target=\"_parent\"><img src=\"https://colab.research.google.com/assets/colab-badge.svg\" alt=\"Open In Colab\"/></a>"
      ]
    },
    {
      "cell_type": "code",
      "metadata": {
        "colab": {
          "base_uri": "https://localhost:8080/"
        },
        "id": "r9fUkg8fVQhJ",
        "outputId": "51d9df9a-1eac-47b3-96c0-1a1a2d378c62"
      },
      "source": [
        "print(\"ANKUSH JAUHARI\") #IT is A Comment"
      ],
      "execution_count": 11,
      "outputs": [
        {
          "output_type": "stream",
          "text": [
            "ANKUSH JAUHARI\n"
          ],
          "name": "stdout"
        }
      ]
    },
    {
      "cell_type": "code",
      "metadata": {
        "colab": {
          "base_uri": "https://localhost:8080/"
        },
        "id": "Zdyma21tVShW",
        "outputId": "557b69c6-91d6-4cb8-b7b0-9ee19bf54115"
      },
      "source": [
        "a=10\n",
        "b=\"Hello World\"\n",
        "c=10.5\n",
        "print(a)\n",
        "print(b)\n",
        "print(c)\n",
        "print(type(a))\n",
        "print(type(b))\n",
        "print(type(c))"
      ],
      "execution_count": 15,
      "outputs": [
        {
          "output_type": "stream",
          "text": [
            "10\n",
            "Hello World\n",
            "10.5\n",
            "<class 'int'>\n",
            "<class 'str'>\n",
            "<class 'float'>\n"
          ],
          "name": "stdout"
        }
      ]
    },
    {
      "cell_type": "code",
      "metadata": {
        "colab": {
          "base_uri": "https://localhost:8080/"
        },
        "id": "8t1c7sCzXQrw",
        "outputId": "8377bbd1-6af7-4abd-f6b8-b7265aac3ded"
      },
      "source": [
        "#OUR CALCULATOR IN PYTHON \n",
        "a=int(input(\"Enter the num1 ==> \"))\n",
        "b=int(input(\"Enter 2nd num2 ==> \"))\n",
        "c=a+b\n",
        "d=a-b\n",
        "e=a//b\n",
        "f=a*b\n",
        "g=a%b\n",
        "h=a**b\n",
        "\n",
        "print(\"SUM IS\", c)\n",
        "print(\"DIFFERENCE IS\", d)\n",
        "print(\"DIVISON IS\", e)\n",
        "print(\"MULTIPLY IS\", f)\n",
        "print(\"MOD IS\", g)\n",
        "print(\"{0} to Power {1} IS\".format(a,b),h)"
      ],
      "execution_count": 14,
      "outputs": [
        {
          "output_type": "stream",
          "text": [
            "Enter the num1 ==> 2\n",
            "Enter 2nd num2 ==> 4\n",
            "SUM IS 6\n",
            "DIFFERENCE IS -2\n",
            "DIVISON IS 0\n",
            "MULTIPLY IS 8\n",
            "MOD IS 2\n",
            "2 to Power 4 IS 16\n"
          ],
          "name": "stdout"
        }
      ]
    },
    {
      "cell_type": "code",
      "metadata": {
        "id": "U75NkEfCb4fm"
      },
      "source": [
        ""
      ],
      "execution_count": null,
      "outputs": []
    },
    {
      "cell_type": "markdown",
      "metadata": {
        "id": "C_H-pOTuZrgp"
      },
      "source": [
        "# New Section"
      ]
    },
    {
      "cell_type": "code",
      "metadata": {
        "id": "sUwZzqnzXZCs"
      },
      "source": [
        ""
      ],
      "execution_count": 13,
      "outputs": []
    }
  ]
}