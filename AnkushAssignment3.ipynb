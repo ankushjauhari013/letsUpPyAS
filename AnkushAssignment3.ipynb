{
  "nbformat": 4,
  "nbformat_minor": 0,
  "metadata": {
    "colab": {
      "name": "AnkushAssignment3.ipynb",
      "provenance": [],
      "collapsed_sections": [],
      "authorship_tag": "ABX9TyNX3oACWXz/rrtNJxZBBOiF",
      "include_colab_link": true
    },
    "kernelspec": {
      "name": "python3",
      "display_name": "Python 3"
    },
    "language_info": {
      "name": "python"
    }
  },
  "cells": [
    {
      "cell_type": "markdown",
      "metadata": {
        "id": "view-in-github",
        "colab_type": "text"
      },
      "source": [
        "<a href=\"https://colab.research.google.com/github/ankushjauhari013/letsUpPyAS/blob/main/AnkushAssignment3.ipynb\" target=\"_parent\"><img src=\"https://colab.research.google.com/assets/colab-badge.svg\" alt=\"Open In Colab\"/></a>"
      ]
    },
    {
      "cell_type": "code",
      "metadata": {
        "colab": {
          "base_uri": "https://localhost:8080/"
        },
        "id": "Ty5TIfk-mXIS",
        "outputId": "cb2a7838-d6b7-4817-ccda-77eeb7155e9e"
      },
      "source": [
        "mylist = [\"ANkush\", \"JAuhaRi\", \"NEha\", \"KomAL\",\"TanYa\"]\n",
        "print(\"My Original list is ==> \",mylist)\n",
        "print(\"Length is ==> \", len(mylist))\n",
        "mylist.append(\"KAtun\")\n",
        "print(\"Modified List is ==>\", mylist)\n",
        "mylist.sort()\n",
        "print(\"Sorted List is ==>\",mylist)\n",
        "mylist.reverse()\n",
        "print(\"Reversed List is ==>\",mylist)\n"
      ],
      "execution_count": 38,
      "outputs": [
        {
          "output_type": "stream",
          "text": [
            "My Original list is ==>  ['ANkush', 'JAuhaRi', 'NEha', 'KomAL', 'TanYa']\n",
            "Length is ==>  5\n",
            "Modified List is ==> ['ANkush', 'JAuhaRi', 'NEha', 'KomAL', 'TanYa', 'KAtun']\n",
            "Sorted List is ==> ['ANkush', 'JAuhaRi', 'KAtun', 'KomAL', 'NEha', 'TanYa']\n",
            "Reversed List is ==> ['TanYa', 'NEha', 'KomAL', 'KAtun', 'JAuhaRi', 'ANkush']\n"
          ],
          "name": "stdout"
        }
      ]
    },
    {
      "cell_type": "code",
      "metadata": {
        "colab": {
          "base_uri": "https://localhost:8080/"
        },
        "id": "fSsFFQalyV_G",
        "outputId": "126ed424-c64e-4fdb-8b37-1fdef8a8aebd"
      },
      "source": [
        "mytupple = (\"ANkush\", \"JAuhaRi\", \"NEha\", \"KomAL\",\"TanYa\")\n",
        "print(\"My Original Tupple is ==> \",mytupple)\n",
        "print(\"Length is ==> \", len(mytupple))\n",
        "y= list(mytupple)\n",
        "y.append(\"KAtun\")\n",
        "mytupple = tuple(y)\n",
        "print(\"Modified Tupple is ==>\", mytupple)\n",
        "lo = mytupple.index(\"ANkush\")\n",
        "print(\"Ankush is at index in  Tupple is ==>\",lo)"
      ],
      "execution_count": 39,
      "outputs": [
        {
          "output_type": "stream",
          "text": [
            "My Original Tupple is ==>  ('ANkush', 'JAuhaRi', 'NEha', 'KomAL', 'TanYa')\n",
            "Length is ==>  5\n",
            "Modified Tupple is ==> ('ANkush', 'JAuhaRi', 'NEha', 'KomAL', 'TanYa', 'KAtun')\n",
            "Ankush is at index in  Tupple is ==> 0\n"
          ],
          "name": "stdout"
        }
      ]
    },
    {
      "cell_type": "code",
      "metadata": {
        "colab": {
          "base_uri": "https://localhost:8080/"
        },
        "id": "CEArRcm_0LYk",
        "outputId": "4f3b9b55-bb1d-4876-e1f3-4e387a236fa2"
      },
      "source": [
        "myset = {\"ANkush\", \"JAuhaRi\", \"NEha\", \"KomAL\",\"TanYa\"}\n",
        "print(\"My Original set is ==> \",mylist)\n",
        "print(\"Length is ==> \", len(myset))\n",
        "myset.add(\"YoTo\")\n",
        "print(\"Modified set is ==>\", myset)\n",
        "\n"
      ],
      "execution_count": 40,
      "outputs": [
        {
          "output_type": "stream",
          "text": [
            "My Original set is ==>  ['TanYa', 'NEha', 'KomAL', 'KAtun', 'JAuhaRi', 'ANkush']\n",
            "Length is ==>  5\n",
            "Modified set is ==> {'JAuhaRi', 'YoTo', 'TanYa', 'KomAL', 'ANkush', 'NEha'}\n"
          ],
          "name": "stdout"
        }
      ]
    },
    {
      "cell_type": "code",
      "metadata": {
        "colab": {
          "base_uri": "https://localhost:8080/"
        },
        "id": "3_rLrpKY2ETa",
        "outputId": "bf04fa53-7cdc-433c-f7d9-2bceb0ddc0a8"
      },
      "source": [
        "Dict = {'Tim': 18,'Joy':12,'Tuf':22,'Rob':25}   \n",
        "print (Dict['Tuf'])\n",
        "Boys = {'Tim': 18,'Joy':12,'Rob':25}\n",
        "Girls = {'Tiffany':22}\t\n",
        "studentX=Boys.copy()\n",
        "studentY=Girls.copy()\n",
        "print(\"Dic x is\", studentX)\n",
        "print (\"Dic y is\",studentY)\n",
        "\n",
        "print (\"Length : %d\" % len (Dict))\n",
        "print (\"printable string:%s\" % str (Dict))\n",
        "\n",
        "my_dict1 = {\"username\": \"ABC\", \"email\": \"ABC@gmail.com\", \"location\":\"GHAZIABAD\"}\n",
        "my_dict2 = {\"firstName\" : \"Ankush\", \"lastName\": \"Jauhari\"}\n",
        "my_dict1.update(my_dict2)\n",
        "\n",
        "print(\"Merging Dict is ==> \", my_dict1)"
      ],
      "execution_count": 41,
      "outputs": [
        {
          "output_type": "stream",
          "text": [
            "22\n",
            "Dic x is {'Tim': 18, 'Joy': 12, 'Rob': 25}\n",
            "Dic y is {'Tiffany': 22}\n",
            "Length : 4\n",
            "printable string:{'Tim': 18, 'Joy': 12, 'Tuf': 22, 'Rob': 25}\n",
            "Merging Dict is ==>  {'username': 'ABC', 'email': 'ABC@gmail.com', 'location': 'GHAZIABAD', 'firstName': 'Ankush', 'lastName': 'Jauhari'}\n"
          ],
          "name": "stdout"
        }
      ]
    },
    {
      "cell_type": "code",
      "metadata": {
        "colab": {
          "base_uri": "https://localhost:8080/"
        },
        "id": "ZhvbRLN83SZ9",
        "outputId": "71a22000-7bbb-4460-bc1e-1f1717f7b385"
      },
      "source": [
        "a = \"anKush\"\n",
        "b = \"JAUHARI\"\n",
        "c = \"INFORMATION TECHNNOLOGY\"\n",
        "d = \"SEmestER -4\"\n",
        "e = \"ABseC\"\n",
        "k = \"ankushjauhari013@gmail.com\"\n",
        "m = \"A\"\n",
        "\n",
        "\n",
        "f = 9761661852\n",
        "g = 1900320130026\n",
        "h = 2019131049\n",
        "i = 2019\n",
        "j = 2023\n",
        "L = 52021\n",
        "print(\"a+b is \", a+b)\n",
        "print(\"a in a\", a in a)\n",
        "print(\"==\", a == b)\n",
        "\n",
        "print(\"a>b\", a > b)\n",
        "print(\"a[5]\", a[5])\n",
        "print(\"a*5 is\", a*5)\n",
        "print(\"length of a is ==> \", len(a))\n",
        "print(\"chr for num is\", chr(L))\n",
        "print(\"ASCII of A is\", ord(m))\n",
        "\n",
        "print(\"A.CAPAtalize is \", a.capitalize())\n",
        "print(\"IS Alnum\", a.isalnum())\n",
        "print(a.join(b))\n",
        "print(b.join(a))\n",
        "\n",
        "print(\" All Lower\", a.islower())\n",
        "print(a.swapcase())\n",
        "\n",
        "x = 100\n",
        "y = 50\n",
        "z = 25\n",
        "print(x,y,z)\n",
        "x, y, z = z, x, y\n",
        "\n",
        "print(x,y,z)\n",
        "\n",
        "test_list = [4252, 6578, 3421, 6545, 6676]\n",
        "\n",
        "res = [sub for sub in test_list if len(set(str(sub))) == len(str(sub))]\n",
        "\n",
        "r = [4252]\n",
        "\n",
        "print(len(set(str(r))))\n",
        "print(len(str(r)))"
      ],
      "execution_count": 42,
      "outputs": [
        {
          "output_type": "stream",
          "text": [
            "a+b is  anKushJAUHARI\n",
            "a in a True\n",
            "== False\n",
            "a>b True\n",
            "a[5] h\n",
            "a*5 is anKushanKushanKushanKushanKush\n",
            "length of a is ==>  6\n",
            "chr for num is 쬵\n",
            "ASCII of A is 65\n",
            "A.CAPAtalize is  Ankush\n",
            "IS Alnum True\n",
            "JanKushAanKushUanKushHanKushAanKushRanKushI\n",
            "aJAUHARInJAUHARIKJAUHARIuJAUHARIsJAUHARIh\n",
            " All Lower False\n",
            "ANkUSH\n",
            "100 50 25\n",
            "25 100 50\n",
            "5\n",
            "6\n"
          ],
          "name": "stdout"
        }
      ]
    },
    {
      "cell_type": "code",
      "metadata": {
        "id": "0ycFEtuF4Xf0"
      },
      "source": [
        ""
      ],
      "execution_count": 42,
      "outputs": []
    }
  ]
}