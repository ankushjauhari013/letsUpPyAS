{
  "nbformat": 4,
  "nbformat_minor": 0,
  "metadata": {
    "colab": {
      "name": "AnkushAssignment2.ipynb",
      "provenance": [],
      "collapsed_sections": [],
      "authorship_tag": "ABX9TyPes5+wmiurgwuc8DWhay5O",
      "include_colab_link": true
    },
    "kernelspec": {
      "name": "python3",
      "display_name": "Python 3"
    },
    "language_info": {
      "name": "python"
    }
  },
  "cells": [
    {
      "cell_type": "markdown",
      "metadata": {
        "id": "view-in-github",
        "colab_type": "text"
      },
      "source": [
        "<a href=\"https://colab.research.google.com/github/ankushjauhari013/letsUpPyAS/blob/main/AnkushAssignment2.ipynb\" target=\"_parent\"><img src=\"https://colab.research.google.com/assets/colab-badge.svg\" alt=\"Open In Colab\"/></a>"
      ]
    },
    {
      "cell_type": "code",
      "metadata": {
        "colab": {
          "base_uri": "https://localhost:8080/"
        },
        "id": "TCKBmCUigIwz",
        "outputId": "9d4daeef-9be7-4ff6-fb97-02d932e9a4b5"
      },
      "source": [
        "# 2ND Assignment\n",
        "\n",
        "MaxTickets = 5\n",
        "customers = [\"Ankush\", \"Jauhari\",\"Akshay\", \"Deepak\", \"Komal\"]\n",
        "print(customers[0:4])"
      ],
      "execution_count": 1,
      "outputs": [
        {
          "output_type": "stream",
          "text": [
            "['Ankush', 'Jauhari', 'Akshay', 'Deepak']\n"
          ],
          "name": "stdout"
        }
      ]
    },
    {
      "cell_type": "code",
      "metadata": {
        "colab": {
          "base_uri": "https://localhost:8080/"
        },
        "id": "JxPCwQrJgL1q",
        "outputId": "ed610593-9928-474f-d603-327d3bc7bacc"
      },
      "source": [
        "# 2ND Assignment Lottery Winner\n",
        "\n",
        "import random   \n",
        "\n",
        "n=int(input(\"Enter number of participants ==> \"))\n",
        "participants=[input() for i in range(n)]\n",
        "\n",
        "print(\"Participants are \", participants[:])\n",
        "\n",
        "l = random.randint(0,n-1)\n",
        "print(\"Lottery Winner is ==> \", participants[l])"
      ],
      "execution_count": 7,
      "outputs": [
        {
          "output_type": "stream",
          "text": [
            "Enter number of participants ==> 5\n",
            "Ankush\n",
            "Jolly\n",
            "Neha\n",
            "Tanya\n",
            "Komal\n",
            "Participants are  ['Ankush', 'Jolly', 'Neha', 'Tanya', 'Komal']\n",
            "Lottery Winner is ==>  Tanya\n"
          ],
          "name": "stdout"
        }
      ]
    },
    {
      "cell_type": "code",
      "metadata": {
        "id": "6pz1mmFclHvo"
      },
      "source": [
        ""
      ],
      "execution_count": null,
      "outputs": []
    }
  ]
}