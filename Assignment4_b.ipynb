{
  "nbformat": 4,
  "nbformat_minor": 0,
  "metadata": {
    "colab": {
      "name": "Assignment4-b.ipynb",
      "provenance": [],
      "authorship_tag": "ABX9TyMZ2tPUEjaKSQ/yf7/1PMR4",
      "include_colab_link": true
    },
    "kernelspec": {
      "name": "python3",
      "display_name": "Python 3"
    },
    "language_info": {
      "name": "python"
    }
  },
  "cells": [
    {
      "cell_type": "markdown",
      "metadata": {
        "id": "view-in-github",
        "colab_type": "text"
      },
      "source": [
        "<a href=\"https://colab.research.google.com/github/ankushjauhari013/letsUpPyAS/blob/main/Assignment4_b.ipynb\" target=\"_parent\"><img src=\"https://colab.research.google.com/assets/colab-badge.svg\" alt=\"Open In Colab\"/></a>"
      ]
    },
    {
      "cell_type": "code",
      "metadata": {
        "colab": {
          "base_uri": "https://localhost:8080/"
        },
        "id": "1lZ-4kDPRYbw",
        "outputId": "91870f03-852e-41c5-d292-c02682f239ec"
      },
      "source": [
        "# Function for Prime NUmber\n",
        "# Assignment 4 (B-Part)\n",
        "\n",
        "def finding_factors(num):\n",
        "    c = 0\n",
        "\n",
        "    for i in range(2, (num//2 + 1)):\n",
        "        if(num % i == 0):\n",
        "            c = c + 1\n",
        "    return c\n",
        "\n",
        "Num = int(input(\" Enter any Number ==> \"))\n",
        "\n",
        "cnt = finding_factors(Num)\n",
        "\n",
        "if (cnt == 0 and Num != 1):\n",
        "    print(\" %d is a Prime Number\" %Num)\n",
        "else:\n",
        "    print(\" %d is not a Prime Number\" %Num)"
      ],
      "execution_count": 4,
      "outputs": [
        {
          "output_type": "stream",
          "text": [
            " Enter any Number ==> 66\n",
            " 66 is not a Prime Number\n"
          ],
          "name": "stdout"
        }
      ]
    },
    {
      "cell_type": "code",
      "metadata": {
        "id": "yX5s4NOuSKAt"
      },
      "source": [
        ""
      ],
      "execution_count": null,
      "outputs": []
    }
  ]
}