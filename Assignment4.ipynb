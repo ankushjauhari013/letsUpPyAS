{
  "nbformat": 4,
  "nbformat_minor": 0,
  "metadata": {
    "colab": {
      "name": "Assignment4.ipynb",
      "provenance": [],
      "authorship_tag": "ABX9TyNUbeOIl1323OvsXu7DJKyH",
      "include_colab_link": true
    },
    "kernelspec": {
      "name": "python3",
      "display_name": "Python 3"
    },
    "language_info": {
      "name": "python"
    }
  },
  "cells": [
    {
      "cell_type": "markdown",
      "metadata": {
        "id": "view-in-github",
        "colab_type": "text"
      },
      "source": [
        "<a href=\"https://colab.research.google.com/github/ankushjauhari013/letsUpPyAS/blob/main/Assignment4.ipynb\" target=\"_parent\"><img src=\"https://colab.research.google.com/assets/colab-badge.svg\" alt=\"Open In Colab\"/></a>"
      ]
    },
    {
      "cell_type": "code",
      "metadata": {
        "colab": {
          "base_uri": "https://localhost:8080/"
        },
        "id": "qsmlCt_yH_ur",
        "outputId": "81d1fd8b-0bc1-43c4-e902-e6034899c90c"
      },
      "source": [
        "# ASSIGNMENT 4 \n",
        "\n",
        "altitude = int(input(\"Enter The Altitude ==> \"))\n",
        "\n",
        "if altitude <=1000:\n",
        "  print(\"Safe to land\")\n",
        "\n",
        "elif altitude > 1000 and altitude <= 4500 :\n",
        "  print(\" Bring down to 1000 \")\n",
        "  \n",
        "else :\n",
        "  print(\"Turn Around\")"
      ],
      "execution_count": 7,
      "outputs": [
        {
          "output_type": "stream",
          "text": [
            "Enter The Altitude ==> 5480\n",
            "Turn Around\n"
          ],
          "name": "stdout"
        }
      ]
    },
    {
      "cell_type": "code",
      "metadata": {
        "id": "IJwJ54bwKqzo"
      },
      "source": [
        ""
      ],
      "execution_count": null,
      "outputs": []
    }
  ]
}